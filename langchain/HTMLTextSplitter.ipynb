{
 "cells": [
  {
   "cell_type": "markdown",
   "id": "d7ef73e5",
   "metadata": {},
   "source": [
    "### How to split by HTML Header\n",
    "\n",
    "    HTMLHeaderTextSplitter is a \"Structure-aware\" chunker that splits text at the HTML element level and adds meatadata for each header \"relavent\"to any given chunk. it can return chunk element by elemnet  or combine elements with the same metadata , wiht the objective of (a) keeping realted text grouped(more or less)semantically and (b) preserving context-rich information encoded in documents structure . it can be used with other text splitter as part of chunking pipeline."
   ]
  },
  {
   "cell_type": "code",
   "execution_count": 1,
   "id": "4618e248",
   "metadata": {},
   "outputs": [
    {
     "data": {
      "text/plain": [
       "[Document(metadata={'Header 1': \"Hello, I'm Jane Doe\"}, page_content=\"Hello, I'm Jane Doe\"),\n",
       " Document(metadata={'Header 1': \"Hello, I'm Jane Doe\"}, page_content='Web Developer | Designer | Writer'),\n",
       " Document(metadata={'Header 1': \"Hello, I'm Jane Doe\", 'Header 2': 'About Me'}, page_content='About Me'),\n",
       " Document(metadata={'Header 1': \"Hello, I'm Jane Doe\", 'Header 2': 'About Me'}, page_content=\"I'm a passionate web developer with a love for building clean, responsive, and user-friendly websites.\\n      I enjoy learning new technologies and collaborating on creative projects.\"),\n",
       " Document(metadata={'Header 1': \"Hello, I'm Jane Doe\", 'Header 2': 'Projects'}, page_content='Projects'),\n",
       " Document(metadata={'Header 1': \"Hello, I'm Jane Doe\", 'Header 2': 'Projects'}, page_content='A personal site showcasing my work.  \\nPortfolio Website:  \\nA simple blog built with HTML, CSS, and JavaScript.  \\nBlog Platform:'),\n",
       " Document(metadata={'Header 1': \"Hello, I'm Jane Doe\", 'Header 2': 'Contact'}, page_content='Contact'),\n",
       " Document(metadata={}, page_content='Email me at  \\njane@example.com  \\n© 2025 Jane Doe')]"
      ]
     },
     "execution_count": 1,
     "metadata": {},
     "output_type": "execute_result"
    }
   ],
   "source": [
    "from langchain_text_splitters import HTMLHeaderTextSplitter\n",
    " \n",
    "HTML_string =  \"\"\" \n",
    "\n",
    "<!DOCTYPE html>\n",
    "<html lang=\"en\">\n",
    "<head>\n",
    "  <meta charset=\"UTF-8\" />\n",
    "  <meta name=\"viewport\" content=\"width=device-width, initial-scale=1.0\" />\n",
    "  <title>My Personal Webpage</title>\n",
    "  <style>\n",
    "    body {\n",
    "      font-family: Arial, sans-serif;\n",
    "      background-color: #f3f3f3;\n",
    "      color: #333;\n",
    "      padding: 20px;\n",
    "    }\n",
    "    header {\n",
    "      text-align: center;\n",
    "      padding: 20px 0;\n",
    "    }\n",
    "    h1 {\n",
    "      color: #0077cc;\n",
    "    }\n",
    "    section {\n",
    "      margin-top: 30px;\n",
    "    }\n",
    "    footer {\n",
    "      margin-top: 50px;\n",
    "      text-align: center;\n",
    "      color: #999;\n",
    "    }\n",
    "  </style>\n",
    "</head>\n",
    "<body>\n",
    "  <header>\n",
    "    <h1>Hello, I'm Jane Doe</h1>\n",
    "    <p>Web Developer | Designer | Writer</p>\n",
    "  </header>\n",
    "\n",
    "  <section>\n",
    "    <h2>About Me</h2>\n",
    "    <p>\n",
    "      I'm a passionate web developer with a love for building clean, responsive, and user-friendly websites.\n",
    "      I enjoy learning new technologies and collaborating on creative projects.\n",
    "    </p>\n",
    "  </section>\n",
    "\n",
    "  <section>\n",
    "    <h2>Projects</h2>\n",
    "    <ul>\n",
    "      <li><strong>Portfolio Website:</strong> A personal site showcasing my work.</li>\n",
    "      <li><strong>Blog Platform:</strong> A simple blog built with HTML, CSS, and JavaScript.</li>\n",
    "    </ul>\n",
    "  </section>\n",
    "\n",
    "  <section>\n",
    "    <h2>Contact</h2>\n",
    "    <p>Email me at <a href=\"mailto:jane@example.com\">jane@example.com</a></p>\n",
    "  </section>\n",
    "\n",
    "  <footer>\n",
    "    &copy; 2025 Jane Doe\n",
    "  </footer>\n",
    "</body>\n",
    "</html>\n",
    "\n",
    "\n",
    "\n",
    "\"\"\"\n",
    "\n",
    "headers_to_split_on = [\n",
    "    (\"h1\",\"Header 1\"),\n",
    "    (\"h2\",\"Header 2\"),\n",
    "    (\"h3\",\"Header 1\")\n",
    "]\n",
    "html_splitter = HTMLHeaderTextSplitter(headers_to_split_on=headers_to_split_on)\n",
    "html_header_splits=html_splitter.split_text(HTML_string)\n",
    "html_header_splits"
   ]
  },
  {
   "cell_type": "code",
   "execution_count": null,
   "id": "bbbc936c",
   "metadata": {},
   "outputs": [],
   "source": []
  }
 ],
 "metadata": {
  "kernelspec": {
   "display_name": "env",
   "language": "python",
   "name": "python3"
  },
  "language_info": {
   "codemirror_mode": {
    "name": "ipython",
    "version": 3
   },
   "file_extension": ".py",
   "mimetype": "text/x-python",
   "name": "python",
   "nbconvert_exporter": "python",
   "pygments_lexer": "ipython3",
   "version": "3.10.17"
  }
 },
 "nbformat": 4,
 "nbformat_minor": 5
}
