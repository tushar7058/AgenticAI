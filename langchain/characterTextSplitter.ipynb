{
 "cells": [
  {
   "cell_type": "code",
   "execution_count": 1,
   "id": "5f8ae485",
   "metadata": {},
   "outputs": [
    {
     "data": {
      "text/plain": [
       "[Document(metadata={'source': '/Users/tushark/Developer/AgenticAI/langchain/speech.txt'}, page_content='Speech on India\\n\\nRespected guests, ladies and gentlemen,\\n\\nIndia — a land where history breathes through ancient monuments, where diversity thrives in every corner, and where the past and the future walk hand in hand. Officially known as the Republic of India, it is the world’s largest democracy and the seventh-largest country by area. Home to over 1.4 billion people, India is a vibrant mosaic of cultures, languages, and traditions.\\n\\nFrom the icy peaks of the Himalayas in the north to the serene beaches of Kanyakumari in the south, from the golden sands of Rajasthan to the lush greenery of the northeast — India’s geography is as diverse as its people. It is a nation with 28 states and 8 union territories, each with its own unique identity.\\n\\nIndia’s civilization is one of the oldest in the world, dating back more than 5,000 years. It gave the world the concepts of zero, yoga, Ayurveda, and profound philosophical teachings through scriptures like the Vedas and the Upanishads. It has been home to great leaders like Mahatma Gandhi, who showed the world the power of non-violence.\\n\\nEconomically, India is one of the fastest-growing major economies, excelling in sectors like information technology, space research, pharmaceuticals, and renewable energy. Cities like Bengaluru, Mumbai, and Hyderabad are global hubs of innovation and enterprise.\\n\\nCulturally, India celebrates festivals that bring communities together — Diwali, Eid, Christmas, Baisakhi, Durga Puja, and many more. Its art, music, dance forms, and cuisines are as diverse as its people, each telling a story of heritage and creativity.\\n\\nDespite challenges, India stands tall with resilience, unity, and hope. Its democracy gives every citizen a voice, and its spirit continues to inspire the world.\\n\\nIn the words of Rabindranath Tagore,\\n“Where the mind is without fear and the head is held high, into that heaven of freedom, my Father, let my country awake.”\\n\\nThank you.')]"
      ]
     },
     "execution_count": 1,
     "metadata": {},
     "output_type": "execute_result"
    }
   ],
   "source": [
    "from langchain_community.document_loaders import TextLoader\n",
    "\n",
    "\n",
    "loader = TextLoader(\"/Users/tushark/Developer/AgenticAI/langchain/speech.txt\")\n",
    "text_documents = loader.load()\n",
    "text_documents"
   ]
  },
  {
   "cell_type": "code",
   "execution_count": 4,
   "id": "b109bc21",
   "metadata": {},
   "outputs": [
    {
     "name": "stderr",
     "output_type": "stream",
     "text": [
      "Created a chunk of size 377, which is longer than the specified 300\n",
      "Created a chunk of size 311, which is longer than the specified 300\n",
      "Created a chunk of size 340, which is longer than the specified 300\n"
     ]
    },
    {
     "data": {
      "text/plain": [
       "[Document(metadata={'source': '/Users/tushark/Developer/AgenticAI/langchain/speech.txt'}, page_content='Speech on India\\n\\nRespected guests, ladies and gentlemen,'),\n",
       " Document(metadata={'source': '/Users/tushark/Developer/AgenticAI/langchain/speech.txt'}, page_content='India — a land where history breathes through ancient monuments, where diversity thrives in every corner, and where the past and the future walk hand in hand. Officially known as the Republic of India, it is the world’s largest democracy and the seventh-largest country by area. Home to over 1.4 billion people, India is a vibrant mosaic of cultures, languages, and traditions.'),\n",
       " Document(metadata={'source': '/Users/tushark/Developer/AgenticAI/langchain/speech.txt'}, page_content='From the icy peaks of the Himalayas in the north to the serene beaches of Kanyakumari in the south, from the golden sands of Rajasthan to the lush greenery of the northeast — India’s geography is as diverse as its people. It is a nation with 28 states and 8 union territories, each with its own unique identity.'),\n",
       " Document(metadata={'source': '/Users/tushark/Developer/AgenticAI/langchain/speech.txt'}, page_content='India’s civilization is one of the oldest in the world, dating back more than 5,000 years. It gave the world the concepts of zero, yoga, Ayurveda, and profound philosophical teachings through scriptures like the Vedas and the Upanishads. It has been home to great leaders like Mahatma Gandhi, who showed the world the power of non-violence.'),\n",
       " Document(metadata={'source': '/Users/tushark/Developer/AgenticAI/langchain/speech.txt'}, page_content='Economically, India is one of the fastest-growing major economies, excelling in sectors like information technology, space research, pharmaceuticals, and renewable energy. Cities like Bengaluru, Mumbai, and Hyderabad are global hubs of innovation and enterprise.'),\n",
       " Document(metadata={'source': '/Users/tushark/Developer/AgenticAI/langchain/speech.txt'}, page_content='Culturally, India celebrates festivals that bring communities together — Diwali, Eid, Christmas, Baisakhi, Durga Puja, and many more. Its art, music, dance forms, and cuisines are as diverse as its people, each telling a story of heritage and creativity.'),\n",
       " Document(metadata={'source': '/Users/tushark/Developer/AgenticAI/langchain/speech.txt'}, page_content='Despite challenges, India stands tall with resilience, unity, and hope. Its democracy gives every citizen a voice, and its spirit continues to inspire the world.'),\n",
       " Document(metadata={'source': '/Users/tushark/Developer/AgenticAI/langchain/speech.txt'}, page_content='In the words of Rabindranath Tagore,\\n“Where the mind is without fear and the head is held high, into that heaven of freedom, my Father, let my country awake.”\\n\\nThank you.')]"
      ]
     },
     "execution_count": 4,
     "metadata": {},
     "output_type": "execute_result"
    }
   ],
   "source": [
    "from langchain_text_splitters import CharacterTextSplitter\n",
    "\n",
    "text_splitter = CharacterTextSplitter(separator=\"\\n\\n\",chunk_size=300,chunk_overlap=20)\n",
    "text_splitter.split_documents(text_documents)\n"
   ]
  },
  {
   "cell_type": "code",
   "execution_count": null,
   "id": "047c419f",
   "metadata": {},
   "outputs": [],
   "source": []
  }
 ],
 "metadata": {
  "kernelspec": {
   "display_name": "env",
   "language": "python",
   "name": "python3"
  },
  "language_info": {
   "codemirror_mode": {
    "name": "ipython",
    "version": 3
   },
   "file_extension": ".py",
   "mimetype": "text/x-python",
   "name": "python",
   "nbconvert_exporter": "python",
   "pygments_lexer": "ipython3",
   "version": "3.10.17"
  }
 },
 "nbformat": 4,
 "nbformat_minor": 5
}
