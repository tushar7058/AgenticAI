{
 "cells": [
  {
   "cell_type": "code",
   "execution_count": 1,
   "id": "1b602e12",
   "metadata": {},
   "outputs": [
    {
     "data": {
      "text/plain": [
       "[Document(metadata={'producer': 'xdvipdfmx (20240305)', 'creator': 'LaTeX with hyperref', 'creationdate': '2025-08-04T07:39:20+00:00', 'source': '/Users/tushark/Developer/AgenticAI/langchain/Tushark.pdf', 'total_pages': 1, 'page': 0, 'page_label': '1'}, page_content='Tushar Kale\\nEmail | GitHub \\n+91 7058 949 269 | Pune, Mahar ash tr a | LinkedIn \\nEDUCATION\\nB.TECH IN COMPUTER SCIENCE\\nMIT College of Railway \\nEngineering and Research , \\nBarshi \\nA ug 2021 – Ma y 2025 | GP A: 8.02 / 10 \\nLINKS\\nCodeForces://tusharkale816\\nGithub:// tushar7058\\nLinkedIn://tushar-kale5\\nTwitter://@tusharkale816\\nLeetcode://tusharkale7058\\nCOURSEWORK\\nMachine Learning\\nDeep Learning\\nData Structure & Algorithms\\nComputer Networks\\nOperating System\\nArtificial Intelligence\\nNatural Language Processing\\nSKILLS\\nPROGRAMMING\\nPython(Advance) • SQL • Java\\nF amiliar : \\nGit • GitHub • GitLab • Jenkins\\nAI / ML\\nTensorFlow• PyTorch• Transformers\\nGenerative AI • Agentic AI • Machine\\nLearning • Deep Learning\\n• Natural Language Processing\\nCLOUD PLATFORMS\\nAWS SageMaker • GCP VertexAI\\nMLOPS / DEPLOYMENT\\nDocker • MLflow • FastAPI • Streamlit\\nDVC • Flask • Django • LangChain\\n• OpenAI API • LLM • Hugging Face\\nTransformers\\nCERTIFICATIONS\\nSupervised Machine Learning:\\nRegression and Classification\\nDeepLearning.AI | A ug 2024 | \\nCreden tial ID: EJFZNLBC V 6 3 T \\nIntroduction to Generative AI\\nGoogle | Mar 2024 | \\nCreden tial ID: 834 7654 \\nEXPERIENCE\\nMGS TECHNOLOGY PVT LTD| Data Science Intern – HireUp \\nProduct \\nJ une 2025 – Presen t | Pune, India \\n• Built and deployed an AI-powered interview system using Python, FastAPI,\\nand OpenAI APIs, reducing manual evaluation by 70%.\\n• Developed an interactive AI agent to conduct interviews, generate questions,\\nand analyze candidate responses in real-time.\\n• Designed an NLP-based performance evaluation engine, improving candidate\\nshortlisting accuracy by 85%.\\nPHN TECHNOLOGY PVT LTD| R&D Inte rn \\nJ an 2025 – Ma y 2025 | Pune, India \\n• Developed AI quiz evaluator using Python and Django with NLP techniques,\\nachieving 85% grading accuracy and reducing manual effort by 60%.\\n• Built course recommendation engine using Scikit-learn and collaborative\\nfiltering, increasing user engagement by 40%.\\n• Fine-tuned BERT model (Hugging Face) for forum query classification, reaching\\n92% accuracy in intent detection.\\nPROJECTS\\nGESTURE & VOICE-CONTROLLED AI VIRTUAL MOUSE\\n• Built real-time gesture recognition system using OpenCV and MediaPipe,\\nachieving 98% accuracy and 50ms latency with multi-threading.\\n• Integrated voice command recognition using Python for hands-free\\noperations, enhancing accessibility for disabled users.\\n• Implemented adaptive cursor algorithms, reducing false positives by 40% over\\nexisting solutions.\\nHOTEL RESERVATION SYSTEM – END-TO-END ML PROJECT\\n• Developed and deployed an end-to-end hotel reservation prediction system\\nwith MLflow for experiment tracking and model management.\\n• Automated full ML pipeline using Jenkins CI/CD and deployed scalable models\\non Google Cloud Platform (GCP).\\n• Implemented production-grade MLOps workflow covering data ingestion,\\ntraining, evaluation, deployment, and monitoring.\\nACHIEVEMENTS\\n• AI Hackathon 2024 SVERI College of Engg (National Level)\\nRanked Top5 among 30+ teams for developing an NLP-powered resume\\nscreening tool. Achieved 92% accuracy in candidate-job matching using BERT\\nand cosine similarity.\\n• Outstanding TechnicalContributor - PHN TechnologyPvt Ltd (2025)\\n• Competitive Programmer\\nSolved 150+ algorithmic problems on LeetCode, GeeksforGeeks, and\\nCodeforces. Consistently ranked in the Top25% of weekly coding contests.')]"
      ]
     },
     "execution_count": 1,
     "metadata": {},
     "output_type": "execute_result"
    }
   ],
   "source": [
    "## Reading a pdf file \n",
    "\n",
    "from langchain_community.document_loaders import PyPDFLoader\n",
    "\n",
    "\n",
    "pdfLoader = PyPDFLoader(\"/Users/tushark/Developer/AgenticAI/langchain/Tushark.pdf\")\n",
    "docs = pdfLoader.load()\n",
    "docs"
   ]
  },
  {
   "cell_type": "code",
   "execution_count": 5,
   "id": "0fac216d",
   "metadata": {},
   "outputs": [
    {
     "data": {
      "text/plain": [
       "langchain_core.documents.base.Document"
      ]
     },
     "execution_count": 5,
     "metadata": {},
     "output_type": "execute_result"
    }
   ],
   "source": [
    "type(docs[0])"
   ]
  },
  {
   "cell_type": "markdown",
   "id": "620d9b31",
   "metadata": {},
   "source": [
    "### How to Recursively split text by characters"
   ]
  },
  {
   "cell_type": "code",
   "execution_count": 6,
   "id": "b3c5a386",
   "metadata": {},
   "outputs": [
    {
     "data": {
      "text/plain": [
       "[Document(metadata={'producer': 'xdvipdfmx (20240305)', 'creator': 'LaTeX with hyperref', 'creationdate': '2025-08-04T07:39:20+00:00', 'source': '/Users/tushark/Developer/AgenticAI/langchain/Tushark.pdf', 'total_pages': 1, 'page': 0, 'page_label': '1'}, page_content='Tushar Kale\\nEmail | GitHub \\n+91 7058 949 269 | Pune, Mahar ash tr a | LinkedIn \\nEDUCATION\\nB.TECH IN COMPUTER SCIENCE\\nMIT College of Railway \\nEngineering and Research , \\nBarshi \\nA ug 2021 – Ma y 2025 | GP A: 8.02 / 10 \\nLINKS\\nCodeForces://tusharkale816\\nGithub:// tushar7058\\nLinkedIn://tushar-kale5\\nTwitter://@tusharkale816\\nLeetcode://tusharkale7058\\nCOURSEWORK\\nMachine Learning\\nDeep Learning\\nData Structure & Algorithms\\nComputer Networks\\nOperating System\\nArtificial Intelligence'),\n",
       " Document(metadata={'producer': 'xdvipdfmx (20240305)', 'creator': 'LaTeX with hyperref', 'creationdate': '2025-08-04T07:39:20+00:00', 'source': '/Users/tushark/Developer/AgenticAI/langchain/Tushark.pdf', 'total_pages': 1, 'page': 0, 'page_label': '1'}, page_content='Operating System\\nArtificial Intelligence\\nNatural Language Processing\\nSKILLS\\nPROGRAMMING\\nPython(Advance) • SQL • Java\\nF amiliar : \\nGit • GitHub • GitLab • Jenkins\\nAI / ML\\nTensorFlow• PyTorch• Transformers\\nGenerative AI • Agentic AI • Machine\\nLearning • Deep Learning\\n• Natural Language Processing\\nCLOUD PLATFORMS\\nAWS SageMaker • GCP VertexAI\\nMLOPS / DEPLOYMENT\\nDocker • MLflow • FastAPI • Streamlit\\nDVC • Flask • Django • LangChain\\n• OpenAI API • LLM • Hugging Face\\nTransformers\\nCERTIFICATIONS'),\n",
       " Document(metadata={'producer': 'xdvipdfmx (20240305)', 'creator': 'LaTeX with hyperref', 'creationdate': '2025-08-04T07:39:20+00:00', 'source': '/Users/tushark/Developer/AgenticAI/langchain/Tushark.pdf', 'total_pages': 1, 'page': 0, 'page_label': '1'}, page_content='Transformers\\nCERTIFICATIONS\\nSupervised Machine Learning:\\nRegression and Classification\\nDeepLearning.AI | A ug 2024 | \\nCreden tial ID: EJFZNLBC V 6 3 T \\nIntroduction to Generative AI\\nGoogle | Mar 2024 | \\nCreden tial ID: 834 7654 \\nEXPERIENCE\\nMGS TECHNOLOGY PVT LTD| Data Science Intern – HireUp \\nProduct \\nJ une 2025 – Presen t | Pune, India \\n• Built and deployed an AI-powered interview system using Python, FastAPI,\\nand OpenAI APIs, reducing manual evaluation by 70%.'),\n",
       " Document(metadata={'producer': 'xdvipdfmx (20240305)', 'creator': 'LaTeX with hyperref', 'creationdate': '2025-08-04T07:39:20+00:00', 'source': '/Users/tushark/Developer/AgenticAI/langchain/Tushark.pdf', 'total_pages': 1, 'page': 0, 'page_label': '1'}, page_content='• Developed an interactive AI agent to conduct interviews, generate questions,\\nand analyze candidate responses in real-time.\\n• Designed an NLP-based performance evaluation engine, improving candidate\\nshortlisting accuracy by 85%.\\nPHN TECHNOLOGY PVT LTD| R&D Inte rn \\nJ an 2025 – Ma y 2025 | Pune, India \\n• Developed AI quiz evaluator using Python and Django with NLP techniques,\\nachieving 85% grading accuracy and reducing manual effort by 60%.'),\n",
       " Document(metadata={'producer': 'xdvipdfmx (20240305)', 'creator': 'LaTeX with hyperref', 'creationdate': '2025-08-04T07:39:20+00:00', 'source': '/Users/tushark/Developer/AgenticAI/langchain/Tushark.pdf', 'total_pages': 1, 'page': 0, 'page_label': '1'}, page_content='• Built course recommendation engine using Scikit-learn and collaborative\\nfiltering, increasing user engagement by 40%.\\n• Fine-tuned BERT model (Hugging Face) for forum query classification, reaching\\n92% accuracy in intent detection.\\nPROJECTS\\nGESTURE & VOICE-CONTROLLED AI VIRTUAL MOUSE\\n• Built real-time gesture recognition system using OpenCV and MediaPipe,\\nachieving 98% accuracy and 50ms latency with multi-threading.\\n• Integrated voice command recognition using Python for hands-free'),\n",
       " Document(metadata={'producer': 'xdvipdfmx (20240305)', 'creator': 'LaTeX with hyperref', 'creationdate': '2025-08-04T07:39:20+00:00', 'source': '/Users/tushark/Developer/AgenticAI/langchain/Tushark.pdf', 'total_pages': 1, 'page': 0, 'page_label': '1'}, page_content='operations, enhancing accessibility for disabled users.\\n• Implemented adaptive cursor algorithms, reducing false positives by 40% over\\nexisting solutions.\\nHOTEL RESERVATION SYSTEM – END-TO-END ML PROJECT\\n• Developed and deployed an end-to-end hotel reservation prediction system\\nwith MLflow for experiment tracking and model management.\\n• Automated full ML pipeline using Jenkins CI/CD and deployed scalable models\\non Google Cloud Platform (GCP).'),\n",
       " Document(metadata={'producer': 'xdvipdfmx (20240305)', 'creator': 'LaTeX with hyperref', 'creationdate': '2025-08-04T07:39:20+00:00', 'source': '/Users/tushark/Developer/AgenticAI/langchain/Tushark.pdf', 'total_pages': 1, 'page': 0, 'page_label': '1'}, page_content='on Google Cloud Platform (GCP).\\n• Implemented production-grade MLOps workflow covering data ingestion,\\ntraining, evaluation, deployment, and monitoring.\\nACHIEVEMENTS\\n• AI Hackathon 2024 SVERI College of Engg (National Level)\\nRanked Top5 among 30+ teams for developing an NLP-powered resume\\nscreening tool. Achieved 92% accuracy in candidate-job matching using BERT\\nand cosine similarity.\\n• Outstanding TechnicalContributor - PHN TechnologyPvt Ltd (2025)\\n• Competitive Programmer'),\n",
       " Document(metadata={'producer': 'xdvipdfmx (20240305)', 'creator': 'LaTeX with hyperref', 'creationdate': '2025-08-04T07:39:20+00:00', 'source': '/Users/tushark/Developer/AgenticAI/langchain/Tushark.pdf', 'total_pages': 1, 'page': 0, 'page_label': '1'}, page_content='• Competitive Programmer\\nSolved 150+ algorithmic problems on LeetCode, GeeksforGeeks, and\\nCodeforces. Consistently ranked in the Top25% of weekly coding contests.')]"
      ]
     },
     "execution_count": 6,
     "metadata": {},
     "output_type": "execute_result"
    }
   ],
   "source": [
    "from langchain_text_splitters import  RecursiveCharacterTextSplitter\n",
    " \n",
    "text_splitter = RecursiveCharacterTextSplitter(chunk_size=500,chunk_overlap=50)\n",
    "#final_docs = text_splitter.create_documents(docs)\n",
    "final_docs = text_splitter.split_documents(docs)\n",
    "final_docs"
   ]
  },
  {
   "cell_type": "code",
   "execution_count": 8,
   "id": "4dadfee7",
   "metadata": {},
   "outputs": [
    {
     "name": "stdout",
     "output_type": "stream",
     "text": [
      "page_content='Tushar Kale\n",
      "Email | GitHub \n",
      "+91 7058 949 269 | Pune, Mahar ash tr a | LinkedIn \n",
      "EDUCATION\n",
      "B.TECH IN COMPUTER SCIENCE\n",
      "MIT College of Railway \n",
      "Engineering and Research , \n",
      "Barshi \n",
      "A ug 2021 – Ma y 2025 | GP A: 8.02 / 10 \n",
      "LINKS\n",
      "CodeForces://tusharkale816\n",
      "Github:// tushar7058\n",
      "LinkedIn://tushar-kale5\n",
      "Twitter://@tusharkale816\n",
      "Leetcode://tusharkale7058\n",
      "COURSEWORK\n",
      "Machine Learning\n",
      "Deep Learning\n",
      "Data Structure & Algorithms\n",
      "Computer Networks\n",
      "Operating System\n",
      "Artificial Intelligence' metadata={'producer': 'xdvipdfmx (20240305)', 'creator': 'LaTeX with hyperref', 'creationdate': '2025-08-04T07:39:20+00:00', 'source': '/Users/tushark/Developer/AgenticAI/langchain/Tushark.pdf', 'total_pages': 1, 'page': 0, 'page_label': '1'}\n",
      "page_content='Operating System\n",
      "Artificial Intelligence\n",
      "Natural Language Processing\n",
      "SKILLS\n",
      "PROGRAMMING\n",
      "Python(Advance) • SQL • Java\n",
      "F amiliar : \n",
      "Git • GitHub • GitLab • Jenkins\n",
      "AI / ML\n",
      "TensorFlow• PyTorch• Transformers\n",
      "Generative AI • Agentic AI • Machine\n",
      "Learning • Deep Learning\n",
      "• Natural Language Processing\n",
      "CLOUD PLATFORMS\n",
      "AWS SageMaker • GCP VertexAI\n",
      "MLOPS / DEPLOYMENT\n",
      "Docker • MLflow • FastAPI • Streamlit\n",
      "DVC • Flask • Django • LangChain\n",
      "• OpenAI API • LLM • Hugging Face\n",
      "Transformers\n",
      "CERTIFICATIONS' metadata={'producer': 'xdvipdfmx (20240305)', 'creator': 'LaTeX with hyperref', 'creationdate': '2025-08-04T07:39:20+00:00', 'source': '/Users/tushark/Developer/AgenticAI/langchain/Tushark.pdf', 'total_pages': 1, 'page': 0, 'page_label': '1'}\n"
     ]
    }
   ],
   "source": [
    "print(final_docs[0])\n",
    "print(final_docs[1])"
   ]
  },
  {
   "cell_type": "code",
   "execution_count": 9,
   "id": "10c49351",
   "metadata": {},
   "outputs": [
    {
     "data": {
      "text/plain": [
       "[Document(metadata={'source': '/Users/tushark/Developer/AgenticAI/langchain/speech.txt'}, page_content='Speech on India\\n\\nRespected guests, ladies and gentlemen,\\n\\nIndia — a land where history breathes through ancient monuments, where diversity thrives in every corner, and where the past and the future walk hand in hand. Officially known as the Republic of India, it is the world’s largest democracy and the seventh-largest country by area. Home to over 1.4 billion people, India is a vibrant mosaic of cultures, languages, and traditions.\\n\\nFrom the icy peaks of the Himalayas in the north to the serene beaches of Kanyakumari in the south, from the golden sands of Rajasthan to the lush greenery of the northeast — India’s geography is as diverse as its people. It is a nation with 28 states and 8 union territories, each with its own unique identity.\\n\\nIndia’s civilization is one of the oldest in the world, dating back more than 5,000 years. It gave the world the concepts of zero, yoga, Ayurveda, and profound philosophical teachings through scriptures like the Vedas and the Upanishads. It has been home to great leaders like Mahatma Gandhi, who showed the world the power of non-violence.\\n\\nEconomically, India is one of the fastest-growing major economies, excelling in sectors like information technology, space research, pharmaceuticals, and renewable energy. Cities like Bengaluru, Mumbai, and Hyderabad are global hubs of innovation and enterprise.\\n\\nCulturally, India celebrates festivals that bring communities together — Diwali, Eid, Christmas, Baisakhi, Durga Puja, and many more. Its art, music, dance forms, and cuisines are as diverse as its people, each telling a story of heritage and creativity.\\n\\nDespite challenges, India stands tall with resilience, unity, and hope. Its democracy gives every citizen a voice, and its spirit continues to inspire the world.\\n\\nIn the words of Rabindranath Tagore,\\n“Where the mind is without fear and the head is held high, into that heaven of freedom, my Father, let my country awake.”\\n\\nThank you.')]"
      ]
     },
     "execution_count": 9,
     "metadata": {},
     "output_type": "execute_result"
    }
   ],
   "source": [
    "from langchain_community.document_loaders import TextLoader\n",
    "\n",
    "loader = TextLoader(\"/Users/tushark/Developer/AgenticAI/langchain/speech.txt\")\n",
    "text_documents = loader.load()\n",
    "text_documents"
   ]
  },
  {
   "cell_type": "code",
   "execution_count": 10,
   "id": "0f75337c",
   "metadata": {},
   "outputs": [
    {
     "data": {
      "text/plain": [
       "list"
      ]
     },
     "execution_count": 10,
     "metadata": {},
     "output_type": "execute_result"
    }
   ],
   "source": [
    "type(text_documents)\n"
   ]
  },
  {
   "cell_type": "code",
   "execution_count": 14,
   "id": "24dae587",
   "metadata": {},
   "outputs": [
    {
     "name": "stdout",
     "output_type": "stream",
     "text": [
      "[Document(metadata={}, page_content='Speech on India\\n\\nRespected guests, ladies and gentlemen,\\n\\nIndia — a land where history breathes through ancient monuments, where diversity thrives in every corner, and where the past and the future walk hand in hand. Officially known as the Republic of India, it is the world’s largest democracy and the seventh-largest country by area. Home to over 1.4 billion people, India is a vibrant mosaic of cultures, languages, and traditions.'), Document(metadata={}, page_content='From the icy peaks of the Himalayas in the north to the serene beaches of Kanyakumari in the south, from the golden sands of Rajasthan to the lush greenery of the northeast — India’s geography is as diverse as its people. It is a nation with 28 states and 8 union territories, each with its own unique identity.'), Document(metadata={}, page_content='India’s civilization is one of the oldest in the world, dating back more than 5,000 years. It gave the world the concepts of zero, yoga, Ayurveda, and profound philosophical teachings through scriptures like the Vedas and the Upanishads. It has been home to great leaders like Mahatma Gandhi, who showed the world the power of non-violence.'), Document(metadata={}, page_content='Economically, India is one of the fastest-growing major economies, excelling in sectors like information technology, space research, pharmaceuticals, and renewable energy. Cities like Bengaluru, Mumbai, and Hyderabad are global hubs of innovation and enterprise.'), Document(metadata={}, page_content='Culturally, India celebrates festivals that bring communities together — Diwali, Eid, Christmas, Baisakhi, Durga Puja, and many more. Its art, music, dance forms, and cuisines are as diverse as its people, each telling a story of heritage and creativity.\\n\\nDespite challenges, India stands tall with resilience, unity, and hope. Its democracy gives every citizen a voice, and its spirit continues to inspire the world.'), Document(metadata={}, page_content='In the words of Rabindranath Tagore,\\n“Where the mind is without fear and the head is held high, into that heaven of freedom, my Father, let my country awake.”\\n\\nThank you.')]\n",
      "page_content='Speech on India\n",
      "\n",
      "Respected guests, ladies and gentlemen,\n",
      "\n",
      "India — a land where history breathes through ancient monuments, where diversity thrives in every corner, and where the past and the future walk hand in hand. Officially known as the Republic of India, it is the world’s largest democracy and the seventh-largest country by area. Home to over 1.4 billion people, India is a vibrant mosaic of cultures, languages, and traditions.'\n",
      "page_content='From the icy peaks of the Himalayas in the north to the serene beaches of Kanyakumari in the south, from the golden sands of Rajasthan to the lush greenery of the northeast — India’s geography is as diverse as its people. It is a nation with 28 states and 8 union territories, each with its own unique identity.'\n"
     ]
    }
   ],
   "source": [
    "speech = \"\"\n",
    "with open(\"/Users/tushark/Developer/AgenticAI/langchain/speech.txt\")as f:\n",
    "    speech = f.read()\n",
    "\n",
    "speech\n",
    "\n",
    "text_splitters = RecursiveCharacterTextSplitter(chunk_size=100,chunk_overlap=20)\n",
    "text = text_splitter.create_documents([speech])\n",
    "print(text)\n",
    "\n",
    "print(text[0])\n",
    "print(text[1])"
   ]
  },
  {
   "cell_type": "code",
   "execution_count": null,
   "id": "4a91fe25",
   "metadata": {},
   "outputs": [],
   "source": []
  }
 ],
 "metadata": {
  "kernelspec": {
   "display_name": "env",
   "language": "python",
   "name": "python3"
  },
  "language_info": {
   "codemirror_mode": {
    "name": "ipython",
    "version": 3
   },
   "file_extension": ".py",
   "mimetype": "text/x-python",
   "name": "python",
   "nbconvert_exporter": "python",
   "pygments_lexer": "ipython3",
   "version": "3.10.17"
  }
 },
 "nbformat": 4,
 "nbformat_minor": 5
}
