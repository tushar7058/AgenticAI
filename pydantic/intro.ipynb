{
 "cells": [
  {
   "cell_type": "code",
   "execution_count": 2,
   "id": "0f8e6b5c",
   "metadata": {},
   "outputs": [],
   "source": [
    "from pydantic import BaseModel"
   ]
  },
  {
   "cell_type": "code",
   "execution_count": null,
   "id": "e5cefa2b",
   "metadata": {},
   "outputs": [
    {
     "name": "stdout",
     "output_type": "stream",
     "text": [
      "Person(name='tushar', age=23, city='pune')\n"
     ]
    }
   ],
   "source": [
    "from dataclasses import dataclass # using data class\n",
    "\n",
    "@dataclass\n",
    "class Person():\n",
    "    name :str\n",
    "    age :int\n",
    "    city :str\n",
    "\n",
    "\n",
    "person = Person(name='tushar',age=23,city='pune')\n",
    "print(person)\n"
   ]
  },
  {
   "cell_type": "code",
   "execution_count": null,
   "id": "bb40757e",
   "metadata": {},
   "outputs": [
    {
     "name": "stdout",
     "output_type": "stream",
     "text": [
      "name='tushar' age=23 city='pune'\n"
     ]
    },
    {
     "ename": "ValidationError",
     "evalue": "1 validation error for Person\ncity\n  Input should be a valid string [type=string_type, input_value=12, input_type=int]\n    For further information visit https://errors.pydantic.dev/2.11/v/string_type",
     "output_type": "error",
     "traceback": [
      "\u001b[0;31m---------------------------------------------------------------------------\u001b[0m",
      "\u001b[0;31mValidationError\u001b[0m                           Traceback (most recent call last)",
      "Cell \u001b[0;32mIn[7], line 12\u001b[0m\n\u001b[1;32m      8\u001b[0m person \u001b[38;5;241m=\u001b[39m Person(name\u001b[38;5;241m=\u001b[39m\u001b[38;5;124m'\u001b[39m\u001b[38;5;124mtushar\u001b[39m\u001b[38;5;124m'\u001b[39m,age\u001b[38;5;241m=\u001b[39m\u001b[38;5;241m23\u001b[39m,city\u001b[38;5;241m=\u001b[39m\u001b[38;5;124m'\u001b[39m\u001b[38;5;124mpune\u001b[39m\u001b[38;5;124m'\u001b[39m)\n\u001b[1;32m      9\u001b[0m \u001b[38;5;28mprint\u001b[39m(person)\n\u001b[0;32m---> 12\u001b[0m person1 \u001b[38;5;241m=\u001b[39m \u001b[43mPerson\u001b[49m\u001b[43m(\u001b[49m\u001b[43mname\u001b[49m\u001b[38;5;241;43m=\u001b[39;49m\u001b[38;5;124;43m'\u001b[39;49m\u001b[38;5;124;43mtushar\u001b[39;49m\u001b[38;5;124;43m'\u001b[39;49m\u001b[43m,\u001b[49m\u001b[43mage\u001b[49m\u001b[38;5;241;43m=\u001b[39;49m\u001b[38;5;241;43m23\u001b[39;49m\u001b[43m,\u001b[49m\u001b[43mcity\u001b[49m\u001b[38;5;241;43m=\u001b[39;49m\u001b[38;5;241;43m12\u001b[39;49m\u001b[43m)\u001b[49m \n\u001b[1;32m     13\u001b[0m \u001b[38;5;28mprint\u001b[39m(person1)\n",
      "File \u001b[0;32m~/Developer/AgenticAI/env/lib/python3.10/site-packages/pydantic/main.py:253\u001b[0m, in \u001b[0;36mBaseModel.__init__\u001b[0;34m(self, **data)\u001b[0m\n\u001b[1;32m    251\u001b[0m \u001b[38;5;66;03m# `__tracebackhide__` tells pytest and some other tools to omit this function from tracebacks\u001b[39;00m\n\u001b[1;32m    252\u001b[0m __tracebackhide__ \u001b[38;5;241m=\u001b[39m \u001b[38;5;28;01mTrue\u001b[39;00m\n\u001b[0;32m--> 253\u001b[0m validated_self \u001b[38;5;241m=\u001b[39m \u001b[38;5;28;43mself\u001b[39;49m\u001b[38;5;241;43m.\u001b[39;49m\u001b[43m__pydantic_validator__\u001b[49m\u001b[38;5;241;43m.\u001b[39;49m\u001b[43mvalidate_python\u001b[49m\u001b[43m(\u001b[49m\u001b[43mdata\u001b[49m\u001b[43m,\u001b[49m\u001b[43m \u001b[49m\u001b[43mself_instance\u001b[49m\u001b[38;5;241;43m=\u001b[39;49m\u001b[38;5;28;43mself\u001b[39;49m\u001b[43m)\u001b[49m\n\u001b[1;32m    254\u001b[0m \u001b[38;5;28;01mif\u001b[39;00m \u001b[38;5;28mself\u001b[39m \u001b[38;5;129;01mis\u001b[39;00m \u001b[38;5;129;01mnot\u001b[39;00m validated_self:\n\u001b[1;32m    255\u001b[0m     warnings\u001b[38;5;241m.\u001b[39mwarn(\n\u001b[1;32m    256\u001b[0m         \u001b[38;5;124m'\u001b[39m\u001b[38;5;124mA custom validator is returning a value other than `self`.\u001b[39m\u001b[38;5;130;01m\\n\u001b[39;00m\u001b[38;5;124m'\u001b[39m\n\u001b[1;32m    257\u001b[0m         \u001b[38;5;124m\"\u001b[39m\u001b[38;5;124mReturning anything other than `self` from a top level model validator isn\u001b[39m\u001b[38;5;124m'\u001b[39m\u001b[38;5;124mt supported when validating via `__init__`.\u001b[39m\u001b[38;5;130;01m\\n\u001b[39;00m\u001b[38;5;124m\"\u001b[39m\n\u001b[1;32m    258\u001b[0m         \u001b[38;5;124m'\u001b[39m\u001b[38;5;124mSee the `model_validator` docs (https://docs.pydantic.dev/latest/concepts/validators/#model-validators) for more details.\u001b[39m\u001b[38;5;124m'\u001b[39m,\n\u001b[1;32m    259\u001b[0m         stacklevel\u001b[38;5;241m=\u001b[39m\u001b[38;5;241m2\u001b[39m,\n\u001b[1;32m    260\u001b[0m     )\n",
      "\u001b[0;31mValidationError\u001b[0m: 1 validation error for Person\ncity\n  Input should be a valid string [type=string_type, input_value=12, input_type=int]\n    For further information visit https://errors.pydantic.dev/2.11/v/string_type"
     ]
    }
   ],
   "source": [
    "class Person(BaseModel):\n",
    "    name :str\n",
    "    age :int\n",
    "    city :str\n",
    "\n",
    "\n",
    "person = Person(name='tushar',age=23,city='pune')\n",
    "print(person)\n",
    "\n",
    "\n",
    "person1 = Person(name='tushar',age=23,city=12)  # gives error cause of pydantic -> data validation \n",
    "print(person1)\n"
   ]
  },
  {
   "cell_type": "markdown",
   "id": "da1907f0",
   "metadata": {},
   "source": [
    "### 2 . Model with Optional Fields\n",
    "\n",
    "    add optional  fields using python  optional Type "
   ]
  },
  {
   "cell_type": "code",
   "execution_count": 8,
   "id": "9a4c2c50",
   "metadata": {},
   "outputs": [],
   "source": [
    "from typing import  Optional\n",
    "\n",
    "class Employee(BaseModel):\n",
    "\n",
    "    id : int\n",
    "    name : str\n",
    "    deparment : str\n",
    "\n",
    "    salary : Optional[float] = None # optional  with default  value\n",
    "    is_active : Optional[bool] = True # Optional with defaul True\n"
   ]
  },
  {
   "cell_type": "code",
   "execution_count": 9,
   "id": "fd658864",
   "metadata": {},
   "outputs": [
    {
     "name": "stdout",
     "output_type": "stream",
     "text": [
      "id=1 name='John' deparment='IT' salary=None is_active=True\n"
     ]
    }
   ],
   "source": [
    "# Example with and  without  optional Fields\n",
    "\n",
    "emp1 = Employee(id=1,name=\"John\",deparment=\"IT\")\n",
    "print(emp1)\n"
   ]
  },
  {
   "cell_type": "code",
   "execution_count": 10,
   "id": "6ce249cd",
   "metadata": {},
   "outputs": [
    {
     "name": "stdout",
     "output_type": "stream",
     "text": [
      "id=1 name='John' deparment='IT' salary=50000.0 is_active=True\n"
     ]
    }
   ],
   "source": [
    "emp2 = Employee(id=1,name=\"John\",deparment=\"IT\",salary=50000)\n",
    "print(emp2)"
   ]
  },
  {
   "cell_type": "code",
   "execution_count": 11,
   "id": "9a5f6b4b",
   "metadata": {},
   "outputs": [
    {
     "name": "stdout",
     "output_type": "stream",
     "text": [
      "room_number='A101' students=['Alice', 'Bob', 'charlie'] capacity=30\n"
     ]
    }
   ],
   "source": [
    "from pydantic import BaseModel\n",
    "from typing import List\n",
    "\n",
    "class Classroom(BaseModel):\n",
    "\n",
    "    room_number:str\n",
    "    students : List[str] # List of String\n",
    "    capacity : int\n",
    "\n",
    "\n",
    "# creating classroom\n",
    "\n",
    "classroom = Classroom(\n",
    "    room_number=\"A101\",\n",
    "    students=[\"Alice\",\"Bob\",\"charlie\"],\n",
    "    capacity=30\n",
    ")\n",
    "\n",
    "print(classroom)"
   ]
  },
  {
   "cell_type": "code",
   "execution_count": 12,
   "id": "9f27f633",
   "metadata": {},
   "outputs": [
    {
     "name": "stdout",
     "output_type": "stream",
     "text": [
      "1 validation error for Classroom\n",
      "students.1\n",
      "  Input should be a valid string [type=string_type, input_value=121, input_type=int]\n",
      "    For further information visit https://errors.pydantic.dev/2.11/v/string_type\n"
     ]
    }
   ],
   "source": [
    "try:\n",
    "    invalid_val = Classroom(room_number=\"A101\",students=[\"krish\",121],capacity=30)\n",
    "except ValueError as e:\n",
    "    print(e)\n"
   ]
  },
  {
   "cell_type": "markdown",
   "id": "e5eb1167",
   "metadata": {},
   "source": [
    "### Model with Nested models\n",
    "\n",
    "    create complex with nested models:"
   ]
  },
  {
   "cell_type": "code",
   "execution_count": 16,
   "id": "ccf9cc22",
   "metadata": {},
   "outputs": [
    {
     "name": "stdout",
     "output_type": "stream",
     "text": [
      "customer_id=1 name='Emma' address=Address(street='123 Main st', city='boston', zip_code='02108')\n"
     ]
    }
   ],
   "source": [
    "from pydantic import BaseModel\n",
    "\n",
    "class Address(BaseModel):\n",
    "    street :str\n",
    "    city : str\n",
    "    zip_code : str\n",
    "\n",
    "\n",
    "class Customer(BaseModel):\n",
    "    customer_id : int\n",
    "    name : str\n",
    "    address : Address # nested model \n",
    "\n",
    "\n",
    "# create customer with nested address\n",
    "customer = Customer(\n",
    "\n",
    "    customer_id=1,\n",
    "    name = \"Emma\",\n",
    "    address = {\"street\":\"123 Main st\",\"city\":\"boston\",\"zip_code\":\"02108\"}\n",
    ")\n",
    "print(customer)\n"
   ]
  },
  {
   "cell_type": "markdown",
   "id": "22edf1ca",
   "metadata": {},
   "source": [
    "### pydantic Fields : Customization and Constraints\n",
    "\n",
    "The field  in pydantic enhances model field beyond  basic type hints by allowing you to \n",
    "specify validation rules , default values , aliases and more . Here's Comprehensive tutorial with example\n",
    "\n"
   ]
  },
  {
   "cell_type": "code",
   "execution_count": 19,
   "id": "705983b5",
   "metadata": {},
   "outputs": [
    {
     "name": "stdout",
     "output_type": "stream",
     "text": [
      "1 validation error for Item\n",
      "price\n",
      "  Input should be less than or equal to 1000 [type=less_than_equal, input_value=1001, input_type=int]\n",
      "    For further information visit https://errors.pydantic.dev/2.11/v/less_than_equal\n"
     ]
    }
   ],
   "source": [
    "from pydantic import BaseModel ,Field\n",
    "\n",
    "class Item(BaseModel):\n",
    "    name :str = Field(min_length=2,max_length=50)\n",
    "    price : float = Field(gt=0,le=1000)\n",
    "    quantity : int = Field(ge=0)\n",
    "\n",
    "\n",
    "# valid instance\n",
    "try:\n",
    "    item = Item(name=\"Book\",price=1001,quantity=10)\n",
    "except ValueError as e:\n",
    "    print(e)\n"
   ]
  },
  {
   "cell_type": "code",
   "execution_count": 20,
   "id": "a7453e70",
   "metadata": {},
   "outputs": [
    {
     "name": "stdout",
     "output_type": "stream",
     "text": [
      "username='alice' age=18 email='user@example.com'\n",
      "username='bob' age=25 email='bob@doamin.com'\n"
     ]
    }
   ],
   "source": [
    "from pydantic import BaseModel , Field\n",
    "\n",
    "class User(BaseModel):\n",
    "\n",
    "    username : str = Field(...,description=\"Unique username for the user\")\n",
    "    age : int = Field(default=18,description=\"User age, deafaults to 18\")\n",
    "    email : str = Field(default_factory=lambda : \"user@example.com\", description=\"Dafault email address\")\n",
    "\n",
    "\n",
    "# Examples\n",
    "User1 = User(username=\"alice\")\n",
    "print(User1) # username = 'alice' age = 19 , email : user@example.com\n",
    "\n",
    "User2 = User(username=\"bob\",age=25,email=\"bob@doamin.com\")\n",
    "print(User2) # "
   ]
  },
  {
   "cell_type": "code",
   "execution_count": 22,
   "id": "c8c44d60",
   "metadata": {},
   "outputs": [
    {
     "name": "stdout",
     "output_type": "stream",
     "text": [
      "{'properties': {'username': {'description': 'Unique username for the user', 'title': 'Username', 'type': 'string'}, 'age': {'default': 18, 'description': 'User age, deafaults to 18', 'title': 'Age', 'type': 'integer'}, 'email': {'description': 'Dafault email address', 'title': 'Email', 'type': 'string'}}, 'required': ['username'], 'title': 'User', 'type': 'object'}\n"
     ]
    }
   ],
   "source": [
    "print(User.model_json_schema())"
   ]
  },
  {
   "cell_type": "code",
   "execution_count": null,
   "id": "8b45971e",
   "metadata": {},
   "outputs": [],
   "source": []
  }
 ],
 "metadata": {
  "kernelspec": {
   "display_name": "env",
   "language": "python",
   "name": "python3"
  },
  "language_info": {
   "codemirror_mode": {
    "name": "ipython",
    "version": 3
   },
   "file_extension": ".py",
   "mimetype": "text/x-python",
   "name": "python",
   "nbconvert_exporter": "python",
   "pygments_lexer": "ipython3",
   "version": "3.10.17"
  }
 },
 "nbformat": 4,
 "nbformat_minor": 5
}
